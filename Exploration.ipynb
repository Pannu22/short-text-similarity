{
 "cells": [
  {
   "cell_type": "code",
   "execution_count": 1,
   "metadata": {},
   "outputs": [],
   "source": [
    "import pandas as pd\n",
    "import numpy as np\n",
    "import statistics\n",
    "import matplotlib.pyplot as plt\n",
    "import seaborn as sns\n",
    "from string import punctuation\n",
    "from nltk.tokenize import word_tokenize\n",
    "from nltk.stem import PorterStemmer"
   ]
  },
  {
   "cell_type": "code",
   "execution_count": 2,
   "metadata": {},
   "outputs": [
    {
     "data": {
      "text/html": [
       "<div>\n",
       "<style scoped>\n",
       "    .dataframe tbody tr th:only-of-type {\n",
       "        vertical-align: middle;\n",
       "    }\n",
       "\n",
       "    .dataframe tbody tr th {\n",
       "        vertical-align: top;\n",
       "    }\n",
       "\n",
       "    .dataframe thead th {\n",
       "        text-align: right;\n",
       "    }\n",
       "</style>\n",
       "<table border=\"1\" class=\"dataframe\">\n",
       "  <thead>\n",
       "    <tr style=\"text-align: right;\">\n",
       "      <th></th>\n",
       "      <th>pid</th>\n",
       "      <th>sentence1</th>\n",
       "      <th>sentence2</th>\n",
       "      <th>label</th>\n",
       "    </tr>\n",
       "  </thead>\n",
       "  <tbody>\n",
       "    <tr>\n",
       "      <td>0</td>\n",
       "      <td>4665</td>\n",
       "      <td>do you accept broadband bills</td>\n",
       "      <td>Broadband bill</td>\n",
       "      <td>1</td>\n",
       "    </tr>\n",
       "    <tr>\n",
       "      <td>1</td>\n",
       "      <td>26465</td>\n",
       "      <td>I am getting better fare for this flight</td>\n",
       "      <td>Check flight rate</td>\n",
       "      <td>0</td>\n",
       "    </tr>\n",
       "    <tr>\n",
       "      <td>2</td>\n",
       "      <td>57679</td>\n",
       "      <td>Flight from delhi to srinagar</td>\n",
       "      <td>check price for flight from mumbai to pune</td>\n",
       "      <td>1</td>\n",
       "    </tr>\n",
       "    <tr>\n",
       "      <td>3</td>\n",
       "      <td>22043</td>\n",
       "      <td>Availability of food</td>\n",
       "      <td>food available for guest</td>\n",
       "      <td>1</td>\n",
       "    </tr>\n",
       "    <tr>\n",
       "      <td>4</td>\n",
       "      <td>6522</td>\n",
       "      <td>This is my ID only</td>\n",
       "      <td>Can't find order ID.</td>\n",
       "      <td>0</td>\n",
       "    </tr>\n",
       "  </tbody>\n",
       "</table>\n",
       "</div>"
      ],
      "text/plain": [
       "     pid                                 sentence1  \\\n",
       "0   4665             do you accept broadband bills   \n",
       "1  26465  I am getting better fare for this flight   \n",
       "2  57679             Flight from delhi to srinagar   \n",
       "3  22043                      Availability of food   \n",
       "4   6522                        This is my ID only   \n",
       "\n",
       "                                    sentence2  label  \n",
       "0                              Broadband bill      1  \n",
       "1                           Check flight rate      0  \n",
       "2  check price for flight from mumbai to pune      1  \n",
       "3                    food available for guest      1  \n",
       "4                        Can't find order ID.      0  "
      ]
     },
     "execution_count": 2,
     "metadata": {},
     "output_type": "execute_result"
    }
   ],
   "source": [
    "data = pd.read_csv(r\"../short-text-similarity/data/train.csv\")\n",
    "data.head()"
   ]
  },
  {
   "cell_type": "code",
   "execution_count": 3,
   "metadata": {},
   "outputs": [
    {
     "name": "stdout",
     "output_type": "stream",
     "text": [
      "<class 'pandas.core.frame.DataFrame'>\n",
      "RangeIndex: 17044 entries, 0 to 17043\n",
      "Data columns (total 4 columns):\n",
      "pid          17044 non-null int64\n",
      "sentence1    17044 non-null object\n",
      "sentence2    17044 non-null object\n",
      "label        17044 non-null int64\n",
      "dtypes: int64(2), object(2)\n",
      "memory usage: 532.8+ KB\n"
     ]
    }
   ],
   "source": [
    "data.info()"
   ]
  },
  {
   "cell_type": "code",
   "execution_count": 4,
   "metadata": {},
   "outputs": [
    {
     "data": {
      "text/plain": [
       "0    12650\n",
       "1     4394\n",
       "Name: label, dtype: int64"
      ]
     },
     "execution_count": 4,
     "metadata": {},
     "output_type": "execute_result"
    }
   ],
   "source": [
    "data['label'].value_counts()"
   ]
  },
  {
   "cell_type": "code",
   "execution_count": 5,
   "metadata": {},
   "outputs": [],
   "source": [
    "def word_count(sent):\n",
    "    word_list = sent.split()\n",
    "    stop_words = list(punctuation)\n",
    "    word_list = [word for word in word_list if word not in stop_words]\n",
    "    return len(word_list)"
   ]
  },
  {
   "cell_type": "code",
   "execution_count": 6,
   "metadata": {},
   "outputs": [],
   "source": [
    "data['count1'] = data['sentence1'].apply(word_count)\n",
    "data['count2'] = data['sentence2'].apply(word_count)"
   ]
  },
  {
   "cell_type": "code",
   "execution_count": 7,
   "metadata": {},
   "outputs": [],
   "source": [
    "def match_words(sent1, sent2):\n",
    "    stop_words = list(punctuation)\n",
    "    sent1 = sent1.split()\n",
    "    sent2 = sent2.split()\n",
    "    sent1 = [word for word in sent1 if word not in stop_words]\n",
    "    sent2 = [word for word in sent2 if word not in stop_words]\n",
    "    num_match = 0\n",
    "    for word1 in sent1:\n",
    "        if word1 in sent2:\n",
    "            num_match += 1\n",
    "            \n",
    "    return num_match"
   ]
  },
  {
   "cell_type": "code",
   "execution_count": 8,
   "metadata": {},
   "outputs": [],
   "source": [
    "data['match_words'] = list(map(match_words, data['sentence1'], data['sentence2']))"
   ]
  },
  {
   "cell_type": "code",
   "execution_count": 9,
   "metadata": {},
   "outputs": [
    {
     "data": {
      "text/html": [
       "<div>\n",
       "<style scoped>\n",
       "    .dataframe tbody tr th:only-of-type {\n",
       "        vertical-align: middle;\n",
       "    }\n",
       "\n",
       "    .dataframe tbody tr th {\n",
       "        vertical-align: top;\n",
       "    }\n",
       "\n",
       "    .dataframe thead th {\n",
       "        text-align: right;\n",
       "    }\n",
       "</style>\n",
       "<table border=\"1\" class=\"dataframe\">\n",
       "  <thead>\n",
       "    <tr style=\"text-align: right;\">\n",
       "      <th></th>\n",
       "      <th>pid</th>\n",
       "      <th>sentence1</th>\n",
       "      <th>sentence2</th>\n",
       "      <th>label</th>\n",
       "      <th>count1</th>\n",
       "      <th>count2</th>\n",
       "      <th>match_words</th>\n",
       "    </tr>\n",
       "  </thead>\n",
       "  <tbody>\n",
       "    <tr>\n",
       "      <td>0</td>\n",
       "      <td>4665</td>\n",
       "      <td>do you accept broadband bills</td>\n",
       "      <td>Broadband bill</td>\n",
       "      <td>1</td>\n",
       "      <td>5</td>\n",
       "      <td>2</td>\n",
       "      <td>0</td>\n",
       "    </tr>\n",
       "    <tr>\n",
       "      <td>1</td>\n",
       "      <td>26465</td>\n",
       "      <td>I am getting better fare for this flight</td>\n",
       "      <td>Check flight rate</td>\n",
       "      <td>0</td>\n",
       "      <td>8</td>\n",
       "      <td>3</td>\n",
       "      <td>1</td>\n",
       "    </tr>\n",
       "    <tr>\n",
       "      <td>2</td>\n",
       "      <td>57679</td>\n",
       "      <td>Flight from delhi to srinagar</td>\n",
       "      <td>check price for flight from mumbai to pune</td>\n",
       "      <td>1</td>\n",
       "      <td>5</td>\n",
       "      <td>8</td>\n",
       "      <td>2</td>\n",
       "    </tr>\n",
       "    <tr>\n",
       "      <td>3</td>\n",
       "      <td>22043</td>\n",
       "      <td>Availability of food</td>\n",
       "      <td>food available for guest</td>\n",
       "      <td>1</td>\n",
       "      <td>3</td>\n",
       "      <td>4</td>\n",
       "      <td>1</td>\n",
       "    </tr>\n",
       "    <tr>\n",
       "      <td>4</td>\n",
       "      <td>6522</td>\n",
       "      <td>This is my ID only</td>\n",
       "      <td>Can't find order ID.</td>\n",
       "      <td>0</td>\n",
       "      <td>5</td>\n",
       "      <td>4</td>\n",
       "      <td>0</td>\n",
       "    </tr>\n",
       "  </tbody>\n",
       "</table>\n",
       "</div>"
      ],
      "text/plain": [
       "     pid                                 sentence1  \\\n",
       "0   4665             do you accept broadband bills   \n",
       "1  26465  I am getting better fare for this flight   \n",
       "2  57679             Flight from delhi to srinagar   \n",
       "3  22043                      Availability of food   \n",
       "4   6522                        This is my ID only   \n",
       "\n",
       "                                    sentence2  label  count1  count2  \\\n",
       "0                              Broadband bill      1       5       2   \n",
       "1                           Check flight rate      0       8       3   \n",
       "2  check price for flight from mumbai to pune      1       5       8   \n",
       "3                    food available for guest      1       3       4   \n",
       "4                        Can't find order ID.      0       5       4   \n",
       "\n",
       "   match_words  \n",
       "0            0  \n",
       "1            1  \n",
       "2            2  \n",
       "3            1  \n",
       "4            0  "
      ]
     },
     "execution_count": 9,
     "metadata": {},
     "output_type": "execute_result"
    }
   ],
   "source": [
    "data.head()"
   ]
  },
  {
   "cell_type": "markdown",
   "metadata": {},
   "source": [
    "From the count of matching words we can observe the count of matching words for 1st row is 1, while we can see that there are 2 words matching, so we have to Lemmatize/Stem the sentences."
   ]
  },
  {
   "cell_type": "code",
   "execution_count": 10,
   "metadata": {},
   "outputs": [],
   "source": [
    "corp_sent1 = data['sentence1'].tolist()\n",
    "corp_sent2 = data['sentence2'].tolist()"
   ]
  },
  {
   "cell_type": "code",
   "execution_count": 11,
   "metadata": {},
   "outputs": [],
   "source": [
    "def cleaner(sent):\n",
    "    stop_words = list(punctuation)\n",
    "    tokens = word_tokenize(sent)\n",
    "    tokens = [token for token in tokens if token not in stop_words]\n",
    "    stemmer = PorterStemmer()\n",
    "    stem_tokens = [stemmer.stem(token) for token in tokens]\n",
    "    \n",
    "    return stem_tokens"
   ]
  },
  {
   "cell_type": "code",
   "execution_count": 12,
   "metadata": {},
   "outputs": [],
   "source": [
    "sent1_clean = list(map(cleaner, data['sentence1']))\n",
    "sent2_clean = list(map(cleaner, data['sentence2']))"
   ]
  },
  {
   "cell_type": "code",
   "execution_count": 13,
   "metadata": {},
   "outputs": [],
   "source": [
    "def match_clean_words(sent1, sent2):\n",
    "    num_match = 0\n",
    "    for word1 in sent1:\n",
    "        if word1 in sent2:\n",
    "            num_match += 1\n",
    "    return num_match"
   ]
  },
  {
   "cell_type": "code",
   "execution_count": 14,
   "metadata": {},
   "outputs": [],
   "source": [
    "data['match_words'] = list(map(match_clean_words, sent1_clean, sent2_clean))"
   ]
  },
  {
   "cell_type": "code",
   "execution_count": 15,
   "metadata": {},
   "outputs": [
    {
     "data": {
      "text/html": [
       "<div>\n",
       "<style scoped>\n",
       "    .dataframe tbody tr th:only-of-type {\n",
       "        vertical-align: middle;\n",
       "    }\n",
       "\n",
       "    .dataframe tbody tr th {\n",
       "        vertical-align: top;\n",
       "    }\n",
       "\n",
       "    .dataframe thead th {\n",
       "        text-align: right;\n",
       "    }\n",
       "</style>\n",
       "<table border=\"1\" class=\"dataframe\">\n",
       "  <thead>\n",
       "    <tr style=\"text-align: right;\">\n",
       "      <th></th>\n",
       "      <th>pid</th>\n",
       "      <th>sentence1</th>\n",
       "      <th>sentence2</th>\n",
       "      <th>label</th>\n",
       "      <th>count1</th>\n",
       "      <th>count2</th>\n",
       "      <th>match_words</th>\n",
       "    </tr>\n",
       "  </thead>\n",
       "  <tbody>\n",
       "    <tr>\n",
       "      <td>0</td>\n",
       "      <td>4665</td>\n",
       "      <td>do you accept broadband bills</td>\n",
       "      <td>Broadband bill</td>\n",
       "      <td>1</td>\n",
       "      <td>5</td>\n",
       "      <td>2</td>\n",
       "      <td>2</td>\n",
       "    </tr>\n",
       "    <tr>\n",
       "      <td>1</td>\n",
       "      <td>26465</td>\n",
       "      <td>I am getting better fare for this flight</td>\n",
       "      <td>Check flight rate</td>\n",
       "      <td>0</td>\n",
       "      <td>8</td>\n",
       "      <td>3</td>\n",
       "      <td>1</td>\n",
       "    </tr>\n",
       "    <tr>\n",
       "      <td>2</td>\n",
       "      <td>57679</td>\n",
       "      <td>Flight from delhi to srinagar</td>\n",
       "      <td>check price for flight from mumbai to pune</td>\n",
       "      <td>1</td>\n",
       "      <td>5</td>\n",
       "      <td>8</td>\n",
       "      <td>3</td>\n",
       "    </tr>\n",
       "    <tr>\n",
       "      <td>3</td>\n",
       "      <td>22043</td>\n",
       "      <td>Availability of food</td>\n",
       "      <td>food available for guest</td>\n",
       "      <td>1</td>\n",
       "      <td>3</td>\n",
       "      <td>4</td>\n",
       "      <td>2</td>\n",
       "    </tr>\n",
       "    <tr>\n",
       "      <td>4</td>\n",
       "      <td>6522</td>\n",
       "      <td>This is my ID only</td>\n",
       "      <td>Can't find order ID.</td>\n",
       "      <td>0</td>\n",
       "      <td>5</td>\n",
       "      <td>4</td>\n",
       "      <td>1</td>\n",
       "    </tr>\n",
       "  </tbody>\n",
       "</table>\n",
       "</div>"
      ],
      "text/plain": [
       "     pid                                 sentence1  \\\n",
       "0   4665             do you accept broadband bills   \n",
       "1  26465  I am getting better fare for this flight   \n",
       "2  57679             Flight from delhi to srinagar   \n",
       "3  22043                      Availability of food   \n",
       "4   6522                        This is my ID only   \n",
       "\n",
       "                                    sentence2  label  count1  count2  \\\n",
       "0                              Broadband bill      1       5       2   \n",
       "1                           Check flight rate      0       8       3   \n",
       "2  check price for flight from mumbai to pune      1       5       8   \n",
       "3                    food available for guest      1       3       4   \n",
       "4                        Can't find order ID.      0       5       4   \n",
       "\n",
       "   match_words  \n",
       "0            2  \n",
       "1            1  \n",
       "2            3  \n",
       "3            2  \n",
       "4            1  "
      ]
     },
     "execution_count": 15,
     "metadata": {},
     "output_type": "execute_result"
    }
   ],
   "source": [
    "data.head()"
   ]
  },
  {
   "cell_type": "markdown",
   "metadata": {},
   "source": [
    "Now we have better count of matching words in both sentences"
   ]
  },
  {
   "cell_type": "code",
   "execution_count": 16,
   "metadata": {},
   "outputs": [
    {
     "data": {
      "image/png": "[encoded data removed]",
      "text/plain": [
       "<Figure size 1080x936 with 3 Axes>"
      ]
     },
     "metadata": {
      "needs_background": "light"
     },
     "output_type": "display_data"
    }
   ],
   "source": [
    "plt.figure(figsize = (15, 13))\n",
    "plt.subplot(2, 2, 1)\n",
    "sns.distplot(data['count1'])\n",
    "plt.title('Distribution of number of words in sentence1')\n",
    "plt.xlabel('Number of words')\n",
    "plt.ylabel('Frequency of words')\n",
    "\n",
    "plt.subplot(2, 2, 2)\n",
    "sns.distplot(data['count2'])\n",
    "plt.title('Distribution of number of words in sentence2')\n",
    "plt.xlabel('Number of words')\n",
    "plt.ylabel('Frequency of words')\n",
    "\n",
    "plt.subplot(2, 2, 3)\n",
    "sns.distplot(data['match_words'])\n",
    "plt.title('Distribution of matching words')\n",
    "plt.xlabel('Number of words')\n",
    "plt.ylabel('Frequency of words')\n",
    "plt.show()"
   ]
  },
  {
   "cell_type": "code",
   "execution_count": 17,
   "metadata": {},
   "outputs": [
    {
     "name": "stdout",
     "output_type": "stream",
     "text": [
      "Average number of words in sentence1 are 5.26\n",
      "Average number of words in sentence2 are 5.19\n",
      "Average number of words matching in sentence1 & sentence2 are 2.33\n",
      "Biggest sentence1 have 54 words & number of words matching to sentence2 are 12\n",
      "Biggest sentence2 have 33 words & number of words matching to sentence1 are 2\n"
     ]
    }
   ],
   "source": [
    "print(\"Average number of words in sentence1 are\", np.round(data['count1'].mean(), 2))\n",
    "\n",
    "print(\"Average number of words in sentence2 are\", np.round(data['count2'].mean(), 2))\n",
    "\n",
    "print(\"Average number of words matching in sentence1 & sentence2 are\", np.round(data['match_words'].mean(), 2))\n",
    "\n",
    "print(\"Biggest sentence1 have\", max(data['count1']), \"words & number of words matching to sentence2 are\", \n",
    "      data['match_words'][data['count1'].idxmax()])\n",
    "\n",
    "print(\"Biggest sentence2 have\", max(data['count2']), \"words & number of words matching to sentence1 are\", \n",
    "      data['match_words'][data['count2'].idxmax()])"
   ]
  },
  {
   "cell_type": "code",
   "execution_count": 18,
   "metadata": {},
   "outputs": [
    {
     "name": "stdout",
     "output_type": "stream",
     "text": [
      "Average number of words in sentence1 4.73 & sentence2 4.61 having same sentences & number average number of matching words in between them are 2.65\n",
      "*************************\n",
      "Average number of words in sentence1 5.45 & sentence2 5.39 having different sentences & number average number of matching words in between them are 2.22\n"
     ]
    }
   ],
   "source": [
    "print(\"Average number of words in sentence1\", np.round(data[data['label'] == 1]['count1'].mean(), 2),\n",
    "      \"& sentence2\", np.round(data[data['label'] == 1]['count2'].mean(), 2),\n",
    "      \"having same sentences & number average number of matching words in between them are\", \n",
    "     np.round(data[data['label'] == 1]['match_words'].mean(), 2))\n",
    "print('*' * 25)\n",
    "print(\"Average number of words in sentence1\", np.round(data[data['label'] == 0]['count1'].mean(), 2),\n",
    "      \"& sentence2\", np.round(data[data['label'] == 0]['count2'].mean(), 2),\n",
    "      \"having different sentences & number average number of matching words in between them are\", \n",
    "     np.round(data[data['label'] == 0]['match_words'].mean(), 2))"
   ]
  },
  {
   "cell_type": "markdown",
   "metadata": {},
   "source": [
    "We can see that the sentences have same meaning have more number of same words than sentences having different meaning. A better vectorization method for solving this problem will be using Word2Vec, because Word2Vec vectorizes words such that the words having similar meaning are close to each other."
   ]
  },
  {
   "cell_type": "code",
   "execution_count": null,
   "metadata": {},
   "outputs": [],
   "source": []
  }
 ],
 "metadata": {
  "kernelspec": {
   "display_name": "cbot",
   "language": "python",
   "name": "cbot"
  },
  "language_info": {
   "codemirror_mode": {
    "name": "ipython",
    "version": 3
   },
   "file_extension": ".py",
   "mimetype": "text/x-python",
   "name": "python",
   "nbconvert_exporter": "python",
   "pygments_lexer": "ipython3",
   "version": "3.7.4"
  }
 },
 "nbformat": 4,
 "nbformat_minor": 2
}
